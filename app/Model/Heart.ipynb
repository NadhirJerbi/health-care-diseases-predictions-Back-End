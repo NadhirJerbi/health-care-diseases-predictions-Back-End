{
 "metadata": {
  "language_info": {
   "codemirror_mode": {
    "name": "ipython",
    "version": 3
   },
   "file_extension": ".py",
   "mimetype": "text/x-python",
   "name": "python",
   "nbconvert_exporter": "python",
   "pygments_lexer": "ipython3",
   "version": "3.8.5"
  },
  "orig_nbformat": 2,
  "kernelspec": {
   "name": "python385jvsc74a57bd0e639f5ccea79b74052fbd8977862b189d9ef3ca658e7e19b3e151ef806fe71b8",
   "display_name": "Python 3.8.5 64-bit ('base': conda)"
  },
  "metadata": {
   "interpreter": {
    "hash": "e639f5ccea79b74052fbd8977862b189d9ef3ca658e7e19b3e151ef806fe71b8"
   }
  }
 },
 "nbformat": 4,
 "nbformat_minor": 2,
 "cells": [
  {
   "cell_type": "code",
   "execution_count": 7,
   "metadata": {},
   "outputs": [
    {
     "output_type": "stream",
     "name": "stdout",
     "text": [
      "Shape training set: X:(212, 7), y:(212,)\nShape test set: X:(91, 7), y:(91,)\nAccuracy : 0.7472527472527473\nClassification report\n---------------------\n              precision    recall  f1-score   support\n\n           0       0.75      0.66      0.70        41\n           1       0.75      0.82      0.78        50\n\n    accuracy                           0.75        91\n   macro avg       0.75      0.74      0.74        91\nweighted avg       0.75      0.75      0.75        91\n\n_____________________\n"
     ]
    }
   ],
   "source": [
    "import numpy as np\n",
    "import pandas as pd\n",
    "from sklearn import ensemble\n",
    "from sklearn.model_selection import train_test_split\n",
    "from sklearn.metrics import accuracy_score, classification_report, confusion_matrix\n",
    "import joblib\n",
    "\n",
    "df = pd.read_csv(\"../Data/heart.csv\")\n",
    "\n",
    "categorical_val = []\n",
    "continous_val = []\n",
    "for column in df.columns:\n",
    "    if len(df[column].unique()) <= 10:\n",
    "        categorical_val.append(column)\n",
    "    else:\n",
    "        continous_val.append(column)\n",
    "\n",
    "categorical_val.remove('target')\n",
    "dataset = pd.get_dummies(df, columns = categorical_val)\n",
    "\n",
    "cols = ['cp', 'trestbps', 'chol', 'fbs', 'restecg', 'thalach', 'exang']       \n",
    "X = df[cols]\n",
    "y = dataset.target\n",
    "\n",
    "X_train, X_test, y_train, y_test = train_test_split(X, y, test_size=0.3, random_state=42)\n",
    "\n",
    "print('Shape training set: X:{}, y:{}'.format(X_train.shape, y_train.shape))\n",
    "print('Shape test set: X:{}, y:{}'.format(X_test.shape, y_test.shape))\n",
    "\n",
    "model = ensemble.RandomForestClassifier()\n",
    "model.fit(X_train, y_train)\n",
    "y_pred = model.predict(X_test)\n",
    "print('Accuracy : {}'.format(accuracy_score(y_test, y_pred)))\n",
    "\n",
    "clf_report = classification_report(y_test, y_pred)\n",
    "print('Classification report')\n",
    "print(\"---------------------\")\n",
    "print(clf_report)\n",
    "print(\"_____________________\")\n",
    "\n"
   ]
  },
  {
   "cell_type": "code",
   "execution_count": 18,
   "metadata": {},
   "outputs": [
    {
     "output_type": "execute_result",
     "data": {
      "text/plain": [
       "['../pkl/heart_model.pkl']"
      ]
     },
     "metadata": {},
     "execution_count": 18
    }
   ],
   "source": [
    "joblib.dump(model,\"../pkl/heart_model.pkl\")"
   ]
  },
  {
   "cell_type": "code",
   "execution_count": null,
   "metadata": {},
   "outputs": [],
   "source": []
  }
 ]
}